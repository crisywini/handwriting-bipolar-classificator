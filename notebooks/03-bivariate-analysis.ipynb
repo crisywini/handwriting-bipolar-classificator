{
 "cells": [
  {
   "cell_type": "markdown",
   "metadata": {},
   "source": [
    "# Problem to solve"
   ]
  },
  {
   "cell_type": "markdown",
   "metadata": {},
   "source": [
    "The objective is to use the data from handwritings to create a model that allows to predict if some of those handwritings came from a bipolar person or not.\n",
    "\n",
    "The data include the target label, which makes it a supervised machine learning task."
   ]
  },
  {
   "cell_type": "markdown",
   "metadata": {},
   "source": [
    "In this part we implement a bivariate analysis between numeric columns and also categories "
   ]
  },
  {
   "cell_type": "code",
   "execution_count": 1,
   "metadata": {},
   "outputs": [],
   "source": [
    "import pandas as pd\n",
    "pd.options.plotting.backend = \"plotly\"\n",
    "import numpy as np\n",
    "import plotly.express as px\n",
    "from scipy.stats import skew\n",
    "from scipy.stats import kurtosis\n",
    "import matplotlib.pyplot as plt\n",
    "import seaborn as sns\n"
   ]
  },
  {
   "cell_type": "code",
   "execution_count": 2,
   "metadata": {},
   "outputs": [],
   "source": [
    "data =  pd.read_parquet('../data/processed/data_processed.parquet')"
   ]
  },
  {
   "cell_type": "code",
   "execution_count": 4,
   "metadata": {},
   "outputs": [
    {
     "data": {
      "text/html": [
       "<div>\n",
       "<style scoped>\n",
       "    .dataframe tbody tr th:only-of-type {\n",
       "        vertical-align: middle;\n",
       "    }\n",
       "\n",
       "    .dataframe tbody tr th {\n",
       "        vertical-align: top;\n",
       "    }\n",
       "\n",
       "    .dataframe thead th {\n",
       "        text-align: right;\n",
       "    }\n",
       "</style>\n",
       "<table border=\"1\" class=\"dataframe\">\n",
       "  <thead>\n",
       "    <tr style=\"text-align: right;\">\n",
       "      <th></th>\n",
       "      <th>VHD</th>\n",
       "      <th>VLV</th>\n",
       "      <th>V(mC)</th>\n",
       "      <th>V(E)</th>\n",
       "      <th>V(Sx)</th>\n",
       "      <th>V(L)</th>\n",
       "      <th>Men</th>\n",
       "      <th>Femal</th>\n",
       "      <th>Age(0,0.5,1)</th>\n",
       "      <th>Label(0,1)</th>\n",
       "    </tr>\n",
       "  </thead>\n",
       "  <tbody>\n",
       "    <tr>\n",
       "      <th>0</th>\n",
       "      <td>0.000050</td>\n",
       "      <td>37807.614</td>\n",
       "      <td>8.14400</td>\n",
       "      <td>0.005491</td>\n",
       "      <td>8.122097</td>\n",
       "      <td>245.843</td>\n",
       "      <td>1</td>\n",
       "      <td>0</td>\n",
       "      <td>0.0</td>\n",
       "      <td>0</td>\n",
       "    </tr>\n",
       "    <tr>\n",
       "      <th>1</th>\n",
       "      <td>0.000005</td>\n",
       "      <td>29080.230</td>\n",
       "      <td>3.52250</td>\n",
       "      <td>0.000950</td>\n",
       "      <td>0.251000</td>\n",
       "      <td>173.653</td>\n",
       "      <td>1</td>\n",
       "      <td>0</td>\n",
       "      <td>0.0</td>\n",
       "      <td>0</td>\n",
       "    </tr>\n",
       "    <tr>\n",
       "      <th>2</th>\n",
       "      <td>0.000007</td>\n",
       "      <td>25078.010</td>\n",
       "      <td>4.39170</td>\n",
       "      <td>0.000735</td>\n",
       "      <td>1.530600</td>\n",
       "      <td>287.208</td>\n",
       "      <td>1</td>\n",
       "      <td>0</td>\n",
       "      <td>0.0</td>\n",
       "      <td>0</td>\n",
       "    </tr>\n",
       "    <tr>\n",
       "      <th>3</th>\n",
       "      <td>0.000228</td>\n",
       "      <td>15006.147</td>\n",
       "      <td>14.23750</td>\n",
       "      <td>0.018335</td>\n",
       "      <td>1.293500</td>\n",
       "      <td>407.500</td>\n",
       "      <td>0</td>\n",
       "      <td>1</td>\n",
       "      <td>0.5</td>\n",
       "      <td>0</td>\n",
       "    </tr>\n",
       "    <tr>\n",
       "      <th>4</th>\n",
       "      <td>0.000003</td>\n",
       "      <td>31193.673</td>\n",
       "      <td>2.06974</td>\n",
       "      <td>0.000550</td>\n",
       "      <td>1.112700</td>\n",
       "      <td>460.944</td>\n",
       "      <td>0</td>\n",
       "      <td>1</td>\n",
       "      <td>0.5</td>\n",
       "      <td>0</td>\n",
       "    </tr>\n",
       "  </tbody>\n",
       "</table>\n",
       "</div>"
      ],
      "text/plain": [
       "        VHD        VLV     V(mC)      V(E)     V(Sx)     V(L)  Men  Femal  \\\n",
       "0  0.000050  37807.614   8.14400  0.005491  8.122097  245.843    1      0   \n",
       "1  0.000005  29080.230   3.52250  0.000950  0.251000  173.653    1      0   \n",
       "2  0.000007  25078.010   4.39170  0.000735  1.530600  287.208    1      0   \n",
       "3  0.000228  15006.147  14.23750  0.018335  1.293500  407.500    0      1   \n",
       "4  0.000003  31193.673   2.06974  0.000550  1.112700  460.944    0      1   \n",
       "\n",
       "   Age(0,0.5,1)  Label(0,1)  \n",
       "0           0.0           0  \n",
       "1           0.0           0  \n",
       "2           0.0           0  \n",
       "3           0.5           0  \n",
       "4           0.5           0  "
      ]
     },
     "execution_count": 4,
     "metadata": {},
     "output_type": "execute_result"
    }
   ],
   "source": [
    "data.head(5)"
   ]
  }
 ],
 "metadata": {
  "kernelspec": {
   "display_name": "Python 3.10.2 64-bit",
   "language": "python",
   "name": "python3"
  },
  "language_info": {
   "codemirror_mode": {
    "name": "ipython",
    "version": 3
   },
   "file_extension": ".py",
   "mimetype": "text/x-python",
   "name": "python",
   "nbconvert_exporter": "python",
   "pygments_lexer": "ipython3",
   "version": "3.10.2"
  },
  "orig_nbformat": 4,
  "vscode": {
   "interpreter": {
    "hash": "5c6e8b7d5fc8ed5737cacc7e599928c7811d7782033340de08b8148e72c567d8"
   }
  }
 },
 "nbformat": 4,
 "nbformat_minor": 2
}
