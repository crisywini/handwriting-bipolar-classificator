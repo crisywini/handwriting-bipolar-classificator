{
 "cells": [
  {
   "cell_type": "markdown",
   "metadata": {},
   "source": [
    "# Problem to solve"
   ]
  },
  {
   "cell_type": "markdown",
   "metadata": {},
   "source": [
    "The objective is to use the data from handwritings to create a model that allows to predict if some of those handwritings came from a bipolar person or not.\n",
    "\n",
    "The data include the target label, which makes it a supervised machine learning task."
   ]
  },
  {
   "cell_type": "code",
   "execution_count": 2,
   "metadata": {},
   "outputs": [],
   "source": [
    "import pandas as pd\n",
    "import numpy as np"
   ]
  },
  {
   "cell_type": "code",
   "execution_count": 3,
   "metadata": {},
   "outputs": [],
   "source": [
    "og_data = pd.read_csv('../data/raw/Original_Dataset.csv')"
   ]
  },
  {
   "cell_type": "code",
   "execution_count": 4,
   "metadata": {},
   "outputs": [
    {
     "name": "stdout",
     "output_type": "stream",
     "text": [
      "<class 'pandas.core.frame.DataFrame'>\n",
      "RangeIndex: 43 entries, 0 to 42\n",
      "Data columns (total 10 columns):\n",
      " #   Column        Non-Null Count  Dtype  \n",
      "---  ------        --------------  -----  \n",
      " 0   VHD           43 non-null     float64\n",
      " 1   VLV           43 non-null     float64\n",
      " 2   V(mC)         43 non-null     float64\n",
      " 3   V(E)          43 non-null     float64\n",
      " 4   V(Sx)         43 non-null     object \n",
      " 5   V(L)          43 non-null     object \n",
      " 6   Men           43 non-null     int64  \n",
      " 7   Femal         43 non-null     int64  \n",
      " 8   Age(0,0.5,1)  43 non-null     float64\n",
      " 9   Label(0,1)    43 non-null     int64  \n",
      "dtypes: float64(5), int64(3), object(2)\n",
      "memory usage: 3.5+ KB\n"
     ]
    }
   ],
   "source": [
    "og_data.info()"
   ]
  },
  {
   "cell_type": "code",
   "execution_count": 5,
   "metadata": {},
   "outputs": [
    {
     "data": {
      "text/html": [
       "<div>\n",
       "<style scoped>\n",
       "    .dataframe tbody tr th:only-of-type {\n",
       "        vertical-align: middle;\n",
       "    }\n",
       "\n",
       "    .dataframe tbody tr th {\n",
       "        vertical-align: top;\n",
       "    }\n",
       "\n",
       "    .dataframe thead th {\n",
       "        text-align: right;\n",
       "    }\n",
       "</style>\n",
       "<table border=\"1\" class=\"dataframe\">\n",
       "  <thead>\n",
       "    <tr style=\"text-align: right;\">\n",
       "      <th></th>\n",
       "      <th>VHD</th>\n",
       "      <th>VLV</th>\n",
       "      <th>V(mC)</th>\n",
       "      <th>V(E)</th>\n",
       "      <th>Men</th>\n",
       "      <th>Femal</th>\n",
       "      <th>Age(0,0.5,1)</th>\n",
       "      <th>Label(0,1)</th>\n",
       "    </tr>\n",
       "  </thead>\n",
       "  <tbody>\n",
       "    <tr>\n",
       "      <th>count</th>\n",
       "      <td>4.300000e+01</td>\n",
       "      <td>43.000000</td>\n",
       "      <td>43.000000</td>\n",
       "      <td>43.000000</td>\n",
       "      <td>43.000000</td>\n",
       "      <td>43.000000</td>\n",
       "      <td>43.000000</td>\n",
       "      <td>43.000000</td>\n",
       "    </tr>\n",
       "    <tr>\n",
       "      <th>mean</th>\n",
       "      <td>1.531095e-04</td>\n",
       "      <td>12426.725874</td>\n",
       "      <td>2.660821</td>\n",
       "      <td>0.016654</td>\n",
       "      <td>0.465116</td>\n",
       "      <td>0.534884</td>\n",
       "      <td>0.639535</td>\n",
       "      <td>0.325581</td>\n",
       "    </tr>\n",
       "    <tr>\n",
       "      <th>std</th>\n",
       "      <td>2.759672e-04</td>\n",
       "      <td>14092.135842</td>\n",
       "      <td>3.470489</td>\n",
       "      <td>0.025517</td>\n",
       "      <td>0.504685</td>\n",
       "      <td>0.504685</td>\n",
       "      <td>0.333195</td>\n",
       "      <td>0.474137</td>\n",
       "    </tr>\n",
       "    <tr>\n",
       "      <th>min</th>\n",
       "      <td>1.200000e-07</td>\n",
       "      <td>304.667000</td>\n",
       "      <td>0.074410</td>\n",
       "      <td>0.000137</td>\n",
       "      <td>0.000000</td>\n",
       "      <td>0.000000</td>\n",
       "      <td>0.000000</td>\n",
       "      <td>0.000000</td>\n",
       "    </tr>\n",
       "    <tr>\n",
       "      <th>25%</th>\n",
       "      <td>7.121500e-06</td>\n",
       "      <td>1642.535050</td>\n",
       "      <td>0.533148</td>\n",
       "      <td>0.000978</td>\n",
       "      <td>0.000000</td>\n",
       "      <td>0.000000</td>\n",
       "      <td>0.500000</td>\n",
       "      <td>0.000000</td>\n",
       "    </tr>\n",
       "    <tr>\n",
       "      <th>50%</th>\n",
       "      <td>9.962000e-06</td>\n",
       "      <td>3694.789600</td>\n",
       "      <td>1.374400</td>\n",
       "      <td>0.004660</td>\n",
       "      <td>0.000000</td>\n",
       "      <td>1.000000</td>\n",
       "      <td>0.500000</td>\n",
       "      <td>0.000000</td>\n",
       "    </tr>\n",
       "    <tr>\n",
       "      <th>75%</th>\n",
       "      <td>9.964300e-05</td>\n",
       "      <td>20995.305550</td>\n",
       "      <td>3.388984</td>\n",
       "      <td>0.018786</td>\n",
       "      <td>1.000000</td>\n",
       "      <td>1.000000</td>\n",
       "      <td>1.000000</td>\n",
       "      <td>1.000000</td>\n",
       "    </tr>\n",
       "    <tr>\n",
       "      <th>max</th>\n",
       "      <td>9.850000e-04</td>\n",
       "      <td>55378.008000</td>\n",
       "      <td>14.237500</td>\n",
       "      <td>0.092044</td>\n",
       "      <td>1.000000</td>\n",
       "      <td>1.000000</td>\n",
       "      <td>1.000000</td>\n",
       "      <td>1.000000</td>\n",
       "    </tr>\n",
       "  </tbody>\n",
       "</table>\n",
       "</div>"
      ],
      "text/plain": [
       "                VHD           VLV      V(mC)       V(E)        Men      Femal  \\\n",
       "count  4.300000e+01     43.000000  43.000000  43.000000  43.000000  43.000000   \n",
       "mean   1.531095e-04  12426.725874   2.660821   0.016654   0.465116   0.534884   \n",
       "std    2.759672e-04  14092.135842   3.470489   0.025517   0.504685   0.504685   \n",
       "min    1.200000e-07    304.667000   0.074410   0.000137   0.000000   0.000000   \n",
       "25%    7.121500e-06   1642.535050   0.533148   0.000978   0.000000   0.000000   \n",
       "50%    9.962000e-06   3694.789600   1.374400   0.004660   0.000000   1.000000   \n",
       "75%    9.964300e-05  20995.305550   3.388984   0.018786   1.000000   1.000000   \n",
       "max    9.850000e-04  55378.008000  14.237500   0.092044   1.000000   1.000000   \n",
       "\n",
       "       Age(0,0.5,1)  Label(0,1)  \n",
       "count     43.000000   43.000000  \n",
       "mean       0.639535    0.325581  \n",
       "std        0.333195    0.474137  \n",
       "min        0.000000    0.000000  \n",
       "25%        0.500000    0.000000  \n",
       "50%        0.500000    0.000000  \n",
       "75%        1.000000    1.000000  \n",
       "max        1.000000    1.000000  "
      ]
     },
     "execution_count": 5,
     "metadata": {},
     "output_type": "execute_result"
    }
   ],
   "source": [
    "og_data.describe()"
   ]
  },
  {
   "cell_type": "code",
   "execution_count": null,
   "metadata": {},
   "outputs": [],
   "source": []
  },
  {
   "cell_type": "markdown",
   "metadata": {},
   "source": [
    "### About this data from https://www.kaggle.com/datasets/ahmadalijamali/bipolar-vs-non-bipolar-handwriting: \n",
    "\n",
    "Feature extracted from original Images:\n",
    "- VHD: variance of Handwriting\n",
    "- VLV: Variance of light intensity\n",
    "- Vmc: Variance of colour mean\n",
    "- VE: Variance of Entrupy \n",
    "- Vs: Variance of line slope of handwriting [Interesting info](https://www.wikihow.com/Analyze-Handwriting-(Graphology))\n",
    "- VL: Variance of the length of handwriting [Interesting info](https://www.signaturehandwriting.com/blog-detail/size-of-your-handwriting)\n",
    "\n",
    "To learn more about the definition of Bipolar Disorder (BP) please check [A unified model of the pathophysiology of bipolar disorder](https://www.nature.com/articles/s41380-021-01091-4)"
   ]
  },
  {
   "cell_type": "markdown",
   "metadata": {},
   "source": [
    "## Duplicate values"
   ]
  },
  {
   "cell_type": "code",
   "execution_count": 10,
   "metadata": {},
   "outputs": [
    {
     "data": {
      "text/plain": [
       "0"
      ]
     },
     "execution_count": 10,
     "metadata": {},
     "output_type": "execute_result"
    }
   ],
   "source": [
    "duplicate_rows = og_data[og_data.duplicated()]\n",
    "len(duplicate_rows)"
   ]
  },
  {
   "cell_type": "markdown",
   "metadata": {},
   "source": [
    "## Null Values"
   ]
  },
  {
   "cell_type": "code",
   "execution_count": 13,
   "metadata": {},
   "outputs": [
    {
     "data": {
      "text/plain": [
       "VHD             0\n",
       "VLV             0\n",
       "V(mC)           0\n",
       "V(E)            0\n",
       "V(Sx)           0\n",
       "V(L)            0\n",
       "Men             0\n",
       "Femal           0\n",
       "Age(0,0.5,1)    0\n",
       "Label(0,1)      0\n",
       "dtype: int64"
      ]
     },
     "execution_count": 13,
     "metadata": {},
     "output_type": "execute_result"
    }
   ],
   "source": [
    "og_data.isnull().sum()"
   ]
  },
  {
   "cell_type": "markdown",
   "metadata": {},
   "source": [
    "Taking into account this dataset does not have duplicate values or null values we continue with the univariate analysis"
   ]
  }
 ],
 "metadata": {
  "kernelspec": {
   "display_name": "Python 3.10.2 64-bit",
   "language": "python",
   "name": "python3"
  },
  "language_info": {
   "codemirror_mode": {
    "name": "ipython",
    "version": 3
   },
   "file_extension": ".py",
   "mimetype": "text/x-python",
   "name": "python",
   "nbconvert_exporter": "python",
   "pygments_lexer": "ipython3",
   "version": "3.10.2"
  },
  "orig_nbformat": 4,
  "vscode": {
   "interpreter": {
    "hash": "5c6e8b7d5fc8ed5737cacc7e599928c7811d7782033340de08b8148e72c567d8"
   }
  }
 },
 "nbformat": 4,
 "nbformat_minor": 2
}
